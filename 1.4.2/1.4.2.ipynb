{
 "cells": [
  {
   "cell_type": "code",
   "execution_count": 115,
   "metadata": {},
   "outputs": [],
   "source": [
    "from IPython.display import Latex\n",
    "from IPython.display import Image\n",
    "from IPython.core.display import HTML "
   ]
  },
  {
   "cell_type": "markdown",
   "metadata": {},
   "source": [
    "Цель работы: с помощью оборотного маятника измерить величину ускорения свободного падения.\n",
    "\n",
    "Оборудование: оборотный маятник с двумя подвесными призмами и двумя грузами (чечевицами); электронный счётчик времени и числа колебаний; подставка с острием для определения положения центра масс маятника; закреплённая на стене консоль для подвешивания маятника; металлические линейки, штангенциркуль длиной 1 м."
   ]
  },
  {
   "cell_type": "markdown",
   "metadata": {},
   "source": [
    "Физический маятник - твёрдое тело, способное совершать \n",
    "колебания в вертикальной плоскости, будучи подвешено за одну из своих \n",
    "точек в поле тяжести. Ось, проходящая через точку подвес перпендикулярно плоскости качания, называется осью качания маятника. \n",
    "При малых колебаниях период колебаний физического маятника определяется формулой: $$T = 2\\pi\\sqrt{\\frac{I}{mgl}}\\quad (1)$$\n",
    "где I - момент инерциимаятника относительно оси качания, m - масса \n",
    "маятника, l -расстояние от оси качания до центра масс маятника. Если сравнить (1) с известной формулой колебаний математического \n",
    "маятника длиной l ($T = 2\\pi\\sqrt{\\frac{l}{g}}$) определить приведённую длину физического маятника как: \n",
    "$$l_{\\text{пр}} = \\frac{I}{ml} \\quad (2)$$\n",
    "\n",
    "![image](Рис.1.png)\n",
    "\n",
    "Пусть $O_{1}$ - точка подвеса физического маятника, а \n",
    "C - его центр масс. Отложим отрезок длиной $l_{пр}$ вдоль \n",
    "линии $O_{1}C$, и обозначим соответствующую точку как $O_{2}$ — эту точку называют центром качания физического маятника. Заметим, что приведённая длина всегда больше расстояния до центра масс, поэтому точка $O_{2}$ лежит по другую сторону от центра масс.\n",
    "Точки $O_{1}$ и $O_{2}$ обладают свойством взаимности: \n",
    "если перевернуть маятник и подвесить его за точку $O_{2}$\n",
    "то его период малых колебаний останется таким же, как \n",
    "и при подвешивании за точку $O_{1}$.\n",
    "$$T_{1} = 2\\pi\\sqrt{\\frac{I_{1}}{mgl_{1}}}, \\quad T_{2} = 2\\pi\\sqrt{\\frac{I_{2}}{mgl_{2}}} \\quad (3)$$\n",
    "$$I_{1} = I_{c} + ml_{1}^2, \\quad I_{2} = I_{c} + ml_{2}^2 \\quad (4)$$\n",
    "где $I_{c}$ - момент инерции относительно оси, проходящей через точку С.\n",
    "$$I_{c} = ml_{1}l_{2} \\quad (5)$$\n",
    "\n",
    "Посчитаем $T_{min}$ (минимум времени колебаний). Для этого возьмем производную от вот этого куска формулы (3), подставив формулу (4).\n",
    "$$g = \\frac{I_{c} + ml_{1}^2}{mgl_{1}} \\quad (6)$$\n",
    "Приравняем ее к нулю и увидим что в этой точке $l_{1min}$:\n",
    "$$l_{1min} = \\sqrt{\\frac{I_{c}}{m}} \\quad (7)$$\n",
    "Из формул (1) и (2) выведем $g$:\n",
    "$$g = \\frac{4l_{пр}\\pi^2}{T^2} \\quad (8)$$\n",
    "Так как идеального соответствия между $T_{1}$ и $T_{2}$ добиться невозможно то из формул (3), (4) и (5) можно выразить $g$:\n",
    "$$g = 4\\pi^2 \\frac{l_{1}^2 - l_{2}^2}{T_{1}^2l_{1} - T_{2}^2l_{2}} \\quad (9)$$"
   ]
  },
  {
   "cell_type": "markdown",
   "metadata": {},
   "source": [
    "Проведем 3 измерения сотни колебаний и запишем данные в csv. Теперь приступим к обработке данных."
   ]
  },
  {
   "cell_type": "code",
   "execution_count": 116,
   "metadata": {},
   "outputs": [],
   "source": [
    "import numpy as np\n",
    "import pandas as pd\n",
    "import matplotlib.pyplot as plt\n",
    "from scipy.optimize import curve_fit\n",
    "from labs import *\n",
    "from math import sqrt, pi"
   ]
  },
  {
   "cell_type": "code",
   "execution_count": 117,
   "metadata": {},
   "outputs": [
    {
     "data": {
      "text/html": [
       "<div>\n",
       "<style scoped>\n",
       "    .dataframe tbody tr th:only-of-type {\n",
       "        vertical-align: middle;\n",
       "    }\n",
       "\n",
       "    .dataframe tbody tr th {\n",
       "        vertical-align: top;\n",
       "    }\n",
       "\n",
       "    .dataframe thead th {\n",
       "        text-align: right;\n",
       "    }\n",
       "</style>\n",
       "<table border=\"1\" class=\"dataframe\">\n",
       "  <thead>\n",
       "    <tr style=\"text-align: right;\">\n",
       "      <th></th>\n",
       "      <th>N</th>\n",
       "      <th>T</th>\n",
       "    </tr>\n",
       "  </thead>\n",
       "  <tbody>\n",
       "    <tr>\n",
       "      <th>0</th>\n",
       "      <td>1</td>\n",
       "      <td>155.99</td>\n",
       "    </tr>\n",
       "    <tr>\n",
       "      <th>1</th>\n",
       "      <td>1</td>\n",
       "      <td>155.97</td>\n",
       "    </tr>\n",
       "    <tr>\n",
       "      <th>2</th>\n",
       "      <td>1</td>\n",
       "      <td>156.02</td>\n",
       "    </tr>\n",
       "    <tr>\n",
       "      <th>3</th>\n",
       "      <td>2</td>\n",
       "      <td>155.52</td>\n",
       "    </tr>\n",
       "    <tr>\n",
       "      <th>4</th>\n",
       "      <td>2</td>\n",
       "      <td>155.50</td>\n",
       "    </tr>\n",
       "    <tr>\n",
       "      <th>5</th>\n",
       "      <td>2</td>\n",
       "      <td>155.39</td>\n",
       "    </tr>\n",
       "  </tbody>\n",
       "</table>\n",
       "</div>"
      ],
      "text/plain": [
       "   N       T\n",
       "0  1  155.99\n",
       "1  1  155.97\n",
       "2  1  156.02\n",
       "3  2  155.52\n",
       "4  2  155.50\n",
       "5  2  155.39"
      ]
     },
     "execution_count": 117,
     "metadata": {},
     "output_type": "execute_result"
    }
   ],
   "source": [
    "p = pd.read_csv(\"data142.csv\")\n",
    "p"
   ]
  },
  {
   "cell_type": "markdown",
   "metadata": {},
   "source": [
    "Вычислим среднее T1 и T2 (c погрешностью) из датасета измерений:"
   ]
  },
  {
   "cell_type": "code",
   "execution_count": 118,
   "metadata": {},
   "outputs": [],
   "source": [
    "T1 = value_from_series(p.loc[p[\"N\"] == 1][\"T\"]) / 100\n",
    "T2 = value_from_series(p.loc[p[\"N\"] == 2][\"T\"]) / 100"
   ]
  },
  {
   "cell_type": "code",
   "execution_count": 119,
   "metadata": {},
   "outputs": [
    {
     "data": {
      "text/plain": [
       "((1.559933±0.000145), (1.554700±0.000404))"
      ]
     },
     "execution_count": 119,
     "metadata": {},
     "output_type": "execute_result"
    }
   ],
   "source": [
    "T1, T2"
   ]
  },
  {
   "cell_type": "markdown",
   "metadata": {},
   "source": [
    "Введем l1 и l2 расстояния от точек подвеса до точки центра масс:"
   ]
  },
  {
   "cell_type": "markdown",
   "metadata": {},
   "source": [
    "![image](2022-11-15.png)"
   ]
  },
  {
   "cell_type": "code",
   "execution_count": 120,
   "metadata": {},
   "outputs": [],
   "source": [
    "l1 = Value(1.0000 - 0.1948 - 0.3727, 0.002)\n",
    "l2 = Value(0.3727 - 0.1967, 0.002)"
   ]
  },
  {
   "cell_type": "code",
   "execution_count": 121,
   "metadata": {},
   "outputs": [
    {
     "data": {
      "text/plain": [
       "((0.432500±0.002000), (0.176000±0.002000))"
      ]
     },
     "execution_count": 121,
     "metadata": {},
     "output_type": "execute_result"
    }
   ],
   "source": [
    "l1, l2"
   ]
  },
  {
   "cell_type": "markdown",
   "metadata": {},
   "source": [
    "Посчитаем g по формуле (9):"
   ]
  },
  {
   "cell_type": "code",
   "execution_count": 122,
   "metadata": {},
   "outputs": [],
   "source": [
    "g = 4 * pi ** 2 * (l1 ** 2 - l2 ** 2) / (T1 ** 2 * l1 - T2 ** 2 * l2)"
   ]
  },
  {
   "cell_type": "code",
   "execution_count": 123,
   "metadata": {},
   "outputs": [
    {
     "data": {
      "text/plain": [
       "(9.826904±0.159397)"
      ]
     },
     "execution_count": 123,
     "metadata": {},
     "output_type": "execute_result"
    }
   ],
   "source": [
    "g"
   ]
  },
  {
   "cell_type": "code",
   "execution_count": 124,
   "metadata": {},
   "outputs": [
    {
     "name": "stdout",
     "output_type": "stream",
     "text": [
      "(0.686160±0.010865) (0.003360±0.000276) (1.557317±0.000215)\n"
     ]
    }
   ],
   "source": [
    "l = l1 + l2\n",
    "T = (T1 + T2) / 2\n",
    "g0 = ((2 * pi) ** 2) * l / (T ** 2)\n",
    "e = (T1 - T2) / ((T1 + T2) / 2)\n",
    "B = l2 / (l1 - l2)\n",
    "print(B, e, T)\n",
    "ans = g0 * (1 + 2 * B * e)"
   ]
  },
  {
   "cell_type": "code",
   "execution_count": 125,
   "metadata": {},
   "outputs": [
    {
     "data": {
      "text/plain": [
       "(0.045833±0.000743)"
      ]
     },
     "execution_count": 125,
     "metadata": {},
     "output_type": "execute_result"
    }
   ],
   "source": [
    "g * (l.r_err ** 2 + 4 * T.r_err ** 2 + 8 * (B * T.r_err) ** 2 + 8 * (B * T.err * l.err / abs(l2 - l1)) ** 2) ** 0.5"
   ]
  }
 ],
 "metadata": {
  "kernelspec": {
   "display_name": "Python 3.10.5 64-bit",
   "language": "python",
   "name": "python3"
  },
  "language_info": {
   "codemirror_mode": {
    "name": "ipython",
    "version": 3
   },
   "file_extension": ".py",
   "mimetype": "text/x-python",
   "name": "python",
   "nbconvert_exporter": "python",
   "pygments_lexer": "ipython3",
   "version": "3.11.2"
  },
  "orig_nbformat": 4,
  "vscode": {
   "interpreter": {
    "hash": "aee8b7b246df8f9039afb4144a1f6fd8d2ca17a180786b69acc140d282b71a49"
   }
  }
 },
 "nbformat": 4,
 "nbformat_minor": 2
}
