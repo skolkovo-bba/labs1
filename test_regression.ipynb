{
 "cells": [
  {
   "cell_type": "code",
   "execution_count": 1,
   "id": "60e6ddbb",
   "metadata": {},
   "outputs": [],
   "source": [
    "import numpy as np\n",
    "import pandas as pd\n",
    "import matplotlib.pyplot as plt\n",
    "from scipy.optimize import curve_fit"
   ]
  },
  {
   "cell_type": "code",
   "execution_count": 2,
   "id": "f0e0bd93",
   "metadata": {},
   "outputs": [
    {
     "data": {
      "text/html": [
       "<div>\n",
       "<style scoped>\n",
       "    .dataframe tbody tr th:only-of-type {\n",
       "        vertical-align: middle;\n",
       "    }\n",
       "\n",
       "    .dataframe tbody tr th {\n",
       "        vertical-align: top;\n",
       "    }\n",
       "\n",
       "    .dataframe thead th {\n",
       "        text-align: right;\n",
       "    }\n",
       "</style>\n",
       "<table border=\"1\" class=\"dataframe\">\n",
       "  <thead>\n",
       "    <tr style=\"text-align: right;\">\n",
       "      <th></th>\n",
       "      <th>h</th>\n",
       "      <th>N</th>\n",
       "      <th>t</th>\n",
       "      <th>T</th>\n",
       "      <th>Terr</th>\n",
       "    </tr>\n",
       "  </thead>\n",
       "  <tbody>\n",
       "    <tr>\n",
       "      <th>0</th>\n",
       "      <td>6</td>\n",
       "      <td>10</td>\n",
       "      <td>41.884</td>\n",
       "      <td>4.188400</td>\n",
       "      <td>0.030000</td>\n",
       "    </tr>\n",
       "    <tr>\n",
       "      <th>1</th>\n",
       "      <td>6</td>\n",
       "      <td>10</td>\n",
       "      <td>41.984</td>\n",
       "      <td>4.198400</td>\n",
       "      <td>0.030000</td>\n",
       "    </tr>\n",
       "    <tr>\n",
       "      <th>2</th>\n",
       "      <td>6</td>\n",
       "      <td>10</td>\n",
       "      <td>41.903</td>\n",
       "      <td>4.190300</td>\n",
       "      <td>0.030000</td>\n",
       "    </tr>\n",
       "    <tr>\n",
       "      <th>3</th>\n",
       "      <td>6</td>\n",
       "      <td>10</td>\n",
       "      <td>41.829</td>\n",
       "      <td>4.182900</td>\n",
       "      <td>0.030000</td>\n",
       "    </tr>\n",
       "    <tr>\n",
       "      <th>4</th>\n",
       "      <td>6</td>\n",
       "      <td>11</td>\n",
       "      <td>46.126</td>\n",
       "      <td>4.193273</td>\n",
       "      <td>0.027273</td>\n",
       "    </tr>\n",
       "  </tbody>\n",
       "</table>\n",
       "</div>"
      ],
      "text/plain": [
       "   h   N       t         T      Terr\n",
       "0  6  10  41.884  4.188400  0.030000\n",
       "1  6  10  41.984  4.198400  0.030000\n",
       "2  6  10  41.903  4.190300  0.030000\n",
       "3  6  10  41.829  4.182900  0.030000\n",
       "4  6  11  46.126  4.193273  0.027273"
      ]
     },
     "execution_count": 2,
     "metadata": {},
     "output_type": "execute_result"
    }
   ],
   "source": [
    "m = pd.read_csv(\"2_half_circle.csv\")\n",
    "m[\"T\"] = m.t / m.N\n",
    "m[\"Terr\"] = 0.3 / m.N\n",
    "m.head()"
   ]
  },
  {
   "cell_type": "code",
   "execution_count": 3,
   "id": "8656b211",
   "metadata": {},
   "outputs": [
    {
     "data": {
      "text/html": [
       "<div>\n",
       "<style scoped>\n",
       "    .dataframe tbody tr th:only-of-type {\n",
       "        vertical-align: middle;\n",
       "    }\n",
       "\n",
       "    .dataframe tbody tr th {\n",
       "        vertical-align: top;\n",
       "    }\n",
       "\n",
       "    .dataframe thead th {\n",
       "        text-align: right;\n",
       "    }\n",
       "</style>\n",
       "<table border=\"1\" class=\"dataframe\">\n",
       "  <thead>\n",
       "    <tr style=\"text-align: right;\">\n",
       "      <th></th>\n",
       "      <th>T</th>\n",
       "      <th>Terr</th>\n",
       "      <th>h</th>\n",
       "      <th>herr</th>\n",
       "    </tr>\n",
       "  </thead>\n",
       "  <tbody>\n",
       "    <tr>\n",
       "      <th>0</th>\n",
       "      <td>3.056267</td>\n",
       "      <td>0.028</td>\n",
       "      <td>0</td>\n",
       "      <td>0.1</td>\n",
       "    </tr>\n",
       "    <tr>\n",
       "      <th>1</th>\n",
       "      <td>3.110187</td>\n",
       "      <td>0.028</td>\n",
       "      <td>3</td>\n",
       "      <td>0.1</td>\n",
       "    </tr>\n",
       "    <tr>\n",
       "      <th>2</th>\n",
       "      <td>3.260080</td>\n",
       "      <td>0.030</td>\n",
       "      <td>6</td>\n",
       "      <td>0.1</td>\n",
       "    </tr>\n",
       "    <tr>\n",
       "      <th>3</th>\n",
       "      <td>3.478640</td>\n",
       "      <td>0.030</td>\n",
       "      <td>9</td>\n",
       "      <td>0.1</td>\n",
       "    </tr>\n",
       "    <tr>\n",
       "      <th>4</th>\n",
       "      <td>3.814467</td>\n",
       "      <td>0.028</td>\n",
       "      <td>12</td>\n",
       "      <td>0.1</td>\n",
       "    </tr>\n",
       "  </tbody>\n",
       "</table>\n",
       "</div>"
      ],
      "text/plain": [
       "          T   Terr   h  herr\n",
       "0  3.056267  0.028   0   0.1\n",
       "1  3.110187  0.028   3   0.1\n",
       "2  3.260080  0.030   6   0.1\n",
       "3  3.478640  0.030   9   0.1\n",
       "4  3.814467  0.028  12   0.1"
      ]
     },
     "execution_count": 3,
     "metadata": {},
     "output_type": "execute_result"
    }
   ],
   "source": [
    "graph = pd.DataFrame()\n",
    "graph[\"T\"] = m.groupby(\"h\").agg({\"T\": \"mean\"})[\"T\"].values\n",
    "graph[\"Terr\"] = m.groupby(\"h\").agg({\"Terr\": \"mean\"})[\"Terr\"].values\n",
    "graph[\"h\"] = m.groupby(\"h\").agg({\"T\": \"mean\"})[\"T\"].index\n",
    "\n",
    "\n",
    "graph.sort_values(\"h\")\n",
    "graph[\"h\"] = graph[\"h\"] + 9\n",
    "graph[\"herr\"] = np.array([0.1] * len(graph))\n",
    "graph.head()"
   ]
  },
  {
   "cell_type": "code",
   "execution_count": 4,
   "id": "520b7106",
   "metadata": {},
   "outputs": [],
   "source": [
    "for_regression = pd.DataFrame()\n",
    "for_regression[\"x\"] = graph[\"h\"] ** 2\n",
    "for_regression[\"y\"] = graph[\"T\"] ** 2\n",
    "for_regression[\"xerr\"] = 2 * graph[\"herr\"]\n",
    "for_regression[\"yerr\"] = 2 * graph[\"Terr\"]"
   ]
  },
  {
   "cell_type": "code",
   "execution_count": 5,
   "id": "a684f9b4",
   "metadata": {},
   "outputs": [],
   "source": [
    "for_regression.to_csv(\"regr.csv\", index=False)"
   ]
  },
  {
   "cell_type": "code",
   "execution_count": 6,
   "id": "e31bfe78",
   "metadata": {},
   "outputs": [],
   "source": [
    "for_regression = pd.read_csv(\"regr.csv\")"
   ]
  },
  {
   "cell_type": "code",
   "execution_count": 7,
   "id": "22e7e0bb",
   "metadata": {},
   "outputs": [
    {
     "data": {
      "text/html": [
       "<div>\n",
       "<style scoped>\n",
       "    .dataframe tbody tr th:only-of-type {\n",
       "        vertical-align: middle;\n",
       "    }\n",
       "\n",
       "    .dataframe tbody tr th {\n",
       "        vertical-align: top;\n",
       "    }\n",
       "\n",
       "    .dataframe thead th {\n",
       "        text-align: right;\n",
       "    }\n",
       "</style>\n",
       "<table border=\"1\" class=\"dataframe\">\n",
       "  <thead>\n",
       "    <tr style=\"text-align: right;\">\n",
       "      <th></th>\n",
       "      <th>x</th>\n",
       "      <th>y</th>\n",
       "      <th>xerr</th>\n",
       "      <th>yerr</th>\n",
       "    </tr>\n",
       "  </thead>\n",
       "  <tbody>\n",
       "    <tr>\n",
       "      <th>0</th>\n",
       "      <td>0</td>\n",
       "      <td>9.340766</td>\n",
       "      <td>0.2</td>\n",
       "      <td>0.056000</td>\n",
       "    </tr>\n",
       "    <tr>\n",
       "      <th>1</th>\n",
       "      <td>9</td>\n",
       "      <td>9.673261</td>\n",
       "      <td>0.2</td>\n",
       "      <td>0.056000</td>\n",
       "    </tr>\n",
       "    <tr>\n",
       "      <th>2</th>\n",
       "      <td>36</td>\n",
       "      <td>10.628122</td>\n",
       "      <td>0.2</td>\n",
       "      <td>0.060000</td>\n",
       "    </tr>\n",
       "    <tr>\n",
       "      <th>3</th>\n",
       "      <td>81</td>\n",
       "      <td>12.100936</td>\n",
       "      <td>0.2</td>\n",
       "      <td>0.060000</td>\n",
       "    </tr>\n",
       "    <tr>\n",
       "      <th>4</th>\n",
       "      <td>144</td>\n",
       "      <td>14.550156</td>\n",
       "      <td>0.2</td>\n",
       "      <td>0.056000</td>\n",
       "    </tr>\n",
       "    <tr>\n",
       "      <th>5</th>\n",
       "      <td>225</td>\n",
       "      <td>17.561586</td>\n",
       "      <td>0.2</td>\n",
       "      <td>0.058909</td>\n",
       "    </tr>\n",
       "  </tbody>\n",
       "</table>\n",
       "</div>"
      ],
      "text/plain": [
       "     x          y  xerr      yerr\n",
       "0    0   9.340766   0.2  0.056000\n",
       "1    9   9.673261   0.2  0.056000\n",
       "2   36  10.628122   0.2  0.060000\n",
       "3   81  12.100936   0.2  0.060000\n",
       "4  144  14.550156   0.2  0.056000\n",
       "5  225  17.561586   0.2  0.058909"
      ]
     },
     "execution_count": 7,
     "metadata": {},
     "output_type": "execute_result"
    }
   ],
   "source": [
    "for_regression"
   ]
  },
  {
   "cell_type": "code",
   "execution_count": 8,
   "id": "dec15d75",
   "metadata": {},
   "outputs": [
    {
     "data": {
      "image/png": "[encoded data removed]",
      "text/plain": [
       "<Figure size 1280x720 with 1 Axes>"
      ]
     },
     "metadata": {},
     "output_type": "display_data"
    }
   ],
   "source": [
    "plt.figure(figsize=(16, 9), dpi=80)\n",
    "plt.errorbar(x=for_regression[\"x\"], y=for_regression[\"y\"], fmt='.')\n",
    "plt.title(r\"$T^2(h^2)$\", fontsize=25)\n",
    "plt.xlabel(r\"$h^2, см^2$\", fontsize=20)\n",
    "plt.ylabel(r\"$T^2, с^2$\", fontsize=20)\n",
    "plt.grid(True)"
   ]
  },
  {
   "cell_type": "code",
   "execution_count": 9,
   "id": "f52f9b81",
   "metadata": {},
   "outputs": [],
   "source": [
    "def line(x, a, b):\n",
    "    return a * x + b\n",
    "\n",
    "params, cov = curve_fit(line, xdata= for_regression[\"x\"], ydata=for_regression[\"y\"], )"
   ]
  },
  {
   "cell_type": "code",
   "execution_count": 10,
   "id": "60fa69c2",
   "metadata": {},
   "outputs": [
    {
     "data": {
      "text/plain": [
       "[<matplotlib.lines.Line2D at 0x16d433af0>]"
      ]
     },
     "execution_count": 10,
     "metadata": {},
     "output_type": "execute_result"
    },
    {
     "data": {
      "image/png": "[encoded data removed]",
      "text/plain": [
       "<Figure size 1280x720 with 1 Axes>"
      ]
     },
     "metadata": {},
     "output_type": "display_data"
    }
   ],
   "source": [
    "plt.figure(figsize=(16, 9), dpi=80)\n",
    "plt.errorbar(x=for_regression[\"x\"], y=for_regression[\"y\"], fmt='.', label='Экспериментальные точки')\n",
    "plt.title(r\"$T^2(h^2)$\", fontsize=25)\n",
    "plt.xlabel(r\"$h^2, см^2$\", fontsize=20)\n",
    "plt.ylabel(r\"$T^2, с^2$\", fontsize=20)\n",
    "plt.grid(True)\n",
    "plt.legend()\n",
    "plt.plot(for_regression[\"x\"], line(for_regression[\"x\"], params[0], params[1]), label=\"Истиная зависимость\")"
   ]
  },
  {
   "cell_type": "code",
   "execution_count": 11,
   "id": "f84fc75f",
   "metadata": {},
   "outputs": [
    {
     "name": "stdout",
     "output_type": "stream",
     "text": [
      "a = 0.0365 ± 0.00045\n",
      "b = 9.3 ± 0.051\n"
     ]
    }
   ],
   "source": [
    "print(f\"a = {params[0]:.3} \\u00B1 {np.sqrt(cov[0][0]):.2}\")\n",
    "print(f\"b = {params[1]:.3} \\u00B1 {np.sqrt(cov[1][1]):.2}\")"
   ]
  },
  {
   "cell_type": "markdown",
   "id": "de57795d",
   "metadata": {},
   "source": [
    "Test labs module"
   ]
  },
  {
   "cell_type": "code",
   "execution_count": 12,
   "id": "7776a0cf",
   "metadata": {},
   "outputs": [
    {
     "ename": "ModuleNotFoundError",
     "evalue": "No module named 'labs'",
     "output_type": "error",
     "traceback": [
      "\u001b[0;31m---------------------------------------------------------------------------\u001b[0m",
      "\u001b[0;31mModuleNotFoundError\u001b[0m                       Traceback (most recent call last)",
      "Cell \u001b[0;32mIn [12], line 1\u001b[0m\n\u001b[0;32m----> 1\u001b[0m \u001b[39mfrom\u001b[39;00m \u001b[39mlabs\u001b[39;00m \u001b[39mimport\u001b[39;00m Value, add_errors, get_var, get_err\n",
      "\u001b[0;31mModuleNotFoundError\u001b[0m: No module named 'labs'"
     ]
    }
   ],
   "source": [
    "from labs import Value, add_errors, get_var, get_err"
   ]
  },
  {
   "cell_type": "code",
   "execution_count": null,
   "id": "78895a85",
   "metadata": {},
   "outputs": [],
   "source": [
    "m = pd.read_csv(\"2_half_circle.csv\")\n",
    "m[\"T\"] = m.t / m.N\n",
    "m[\"Terr\"] = 0.3 / m.N"
   ]
  },
  {
   "cell_type": "code",
   "execution_count": null,
   "id": "27c8b294",
   "metadata": {},
   "outputs": [],
   "source": [
    "m[\"T\"] = m[\"T\"].apply(add_errors(m[\"Terr\"]))"
   ]
  },
  {
   "cell_type": "code",
   "execution_count": null,
   "id": "06d33a16",
   "metadata": {},
   "outputs": [
    {
     "data": {
      "text/html": [
       "<div>\n",
       "<style scoped>\n",
       "    .dataframe tbody tr th:only-of-type {\n",
       "        vertical-align: middle;\n",
       "    }\n",
       "\n",
       "    .dataframe tbody tr th {\n",
       "        vertical-align: top;\n",
       "    }\n",
       "\n",
       "    .dataframe thead th {\n",
       "        text-align: right;\n",
       "    }\n",
       "</style>\n",
       "<table border=\"1\" class=\"dataframe\">\n",
       "  <thead>\n",
       "    <tr style=\"text-align: right;\">\n",
       "      <th></th>\n",
       "      <th>T</th>\n",
       "      <th>Terr</th>\n",
       "      <th>h</th>\n",
       "      <th>herr</th>\n",
       "    </tr>\n",
       "  </thead>\n",
       "  <tbody>\n",
       "    <tr>\n",
       "      <th>0</th>\n",
       "      <td>3.056267</td>\n",
       "      <td>0.028</td>\n",
       "      <td>0</td>\n",
       "      <td>0.1</td>\n",
       "    </tr>\n",
       "    <tr>\n",
       "      <th>1</th>\n",
       "      <td>3.110187</td>\n",
       "      <td>0.028</td>\n",
       "      <td>3</td>\n",
       "      <td>0.1</td>\n",
       "    </tr>\n",
       "    <tr>\n",
       "      <th>2</th>\n",
       "      <td>3.260080</td>\n",
       "      <td>0.030</td>\n",
       "      <td>6</td>\n",
       "      <td>0.1</td>\n",
       "    </tr>\n",
       "    <tr>\n",
       "      <th>3</th>\n",
       "      <td>3.478640</td>\n",
       "      <td>0.030</td>\n",
       "      <td>9</td>\n",
       "      <td>0.1</td>\n",
       "    </tr>\n",
       "    <tr>\n",
       "      <th>4</th>\n",
       "      <td>3.814467</td>\n",
       "      <td>0.028</td>\n",
       "      <td>12</td>\n",
       "      <td>0.1</td>\n",
       "    </tr>\n",
       "  </tbody>\n",
       "</table>\n",
       "</div>"
      ],
      "text/plain": [
       "          T   Terr   h  herr\n",
       "0  3.056267  0.028   0   0.1\n",
       "1  3.110187  0.028   3   0.1\n",
       "2  3.260080  0.030   6   0.1\n",
       "3  3.478640  0.030   9   0.1\n",
       "4  3.814467  0.028  12   0.1"
      ]
     },
     "execution_count": 16,
     "metadata": {},
     "output_type": "execute_result"
    }
   ],
   "source": [
    "graph = pd.DataFrame()\n",
    "graph[\"T\"] = m.groupby(\"h\").agg({\"T\": \"mean\"})[\"T\"].values\n",
    "graph[\"Terr\"] = m.groupby(\"h\").agg({\"Terr\": \"mean\"})[\"Terr\"].values\n",
    "graph[\"h\"] = m.groupby(\"h\").agg({\"T\": \"mean\"})[\"T\"].index\n",
    "\n",
    "\n",
    "graph.sort_values(\"h\")\n",
    "graph[\"h\"] = graph[\"h\"] + 9\n",
    "graph[\"herr\"] = np.array([0.1] * len(graph))\n",
    "graph.head()"
   ]
  },
  {
   "cell_type": "code",
   "execution_count": null,
   "id": "12696df8",
   "metadata": {},
   "outputs": [
    {
     "data": {
      "text/html": [
       "<div>\n",
       "<style scoped>\n",
       "    .dataframe tbody tr th:only-of-type {\n",
       "        vertical-align: middle;\n",
       "    }\n",
       "\n",
       "    .dataframe tbody tr th {\n",
       "        vertical-align: top;\n",
       "    }\n",
       "\n",
       "    .dataframe thead th {\n",
       "        text-align: right;\n",
       "    }\n",
       "</style>\n",
       "<table border=\"1\" class=\"dataframe\">\n",
       "  <thead>\n",
       "    <tr style=\"text-align: right;\">\n",
       "      <th></th>\n",
       "      <th>h</th>\n",
       "      <th>T</th>\n",
       "      <th>x</th>\n",
       "      <th>y</th>\n",
       "    </tr>\n",
       "  </thead>\n",
       "  <tbody>\n",
       "    <tr>\n",
       "      <th>0</th>\n",
       "      <td>(0.000000±0.100000)</td>\n",
       "      <td>(3.056267±0.028000)</td>\n",
       "      <td>(0.000000±0.000000)</td>\n",
       "      <td>(9.340766±0.171151)</td>\n",
       "    </tr>\n",
       "    <tr>\n",
       "      <th>1</th>\n",
       "      <td>(3.000000±0.100000)</td>\n",
       "      <td>(3.110187±0.028000)</td>\n",
       "      <td>(9.000000±0.600000)</td>\n",
       "      <td>(9.673261±0.174170)</td>\n",
       "    </tr>\n",
       "    <tr>\n",
       "      <th>2</th>\n",
       "      <td>(6.000000±0.100000)</td>\n",
       "      <td>(3.260080±0.030000)</td>\n",
       "      <td>(36.000000±1.200000)</td>\n",
       "      <td>(10.628122±0.195605)</td>\n",
       "    </tr>\n",
       "    <tr>\n",
       "      <th>3</th>\n",
       "      <td>(9.000000±0.100000)</td>\n",
       "      <td>(3.478640±0.030000)</td>\n",
       "      <td>(81.000000±1.800000)</td>\n",
       "      <td>(12.100936±0.208718)</td>\n",
       "    </tr>\n",
       "    <tr>\n",
       "      <th>4</th>\n",
       "      <td>(12.000000±0.100000)</td>\n",
       "      <td>(3.814467±0.028000)</td>\n",
       "      <td>(144.000000±2.400000)</td>\n",
       "      <td>(14.550156±0.213610)</td>\n",
       "    </tr>\n",
       "  </tbody>\n",
       "</table>\n",
       "</div>"
      ],
      "text/plain": [
       "                      h                    T                      x  \\\n",
       "0   (0.000000±0.100000)  (3.056267±0.028000)    (0.000000±0.000000)   \n",
       "1   (3.000000±0.100000)  (3.110187±0.028000)    (9.000000±0.600000)   \n",
       "2   (6.000000±0.100000)  (3.260080±0.030000)   (36.000000±1.200000)   \n",
       "3   (9.000000±0.100000)  (3.478640±0.030000)   (81.000000±1.800000)   \n",
       "4  (12.000000±0.100000)  (3.814467±0.028000)  (144.000000±2.400000)   \n",
       "\n",
       "                      y  \n",
       "0   (9.340766±0.171151)  \n",
       "1   (9.673261±0.174170)  \n",
       "2  (10.628122±0.195605)  \n",
       "3  (12.100936±0.208718)  \n",
       "4  (14.550156±0.213610)  "
      ]
     },
     "execution_count": 17,
     "metadata": {},
     "output_type": "execute_result"
    }
   ],
   "source": [
    "labs_test = pd.DataFrame()\n",
    "labs_test[\"h\"] = graph[\"h\"].apply(add_errors(graph[\"herr\"]))\n",
    "labs_test[\"T\"] = graph[\"T\"].apply(add_errors(graph[\"Terr\"]))\n",
    "labs_test[\"x\"] = labs_test[\"h\"] ** 2\n",
    "labs_test[\"y\"] = labs_test[\"T\"] ** 2\n",
    "labs_test.head() "
   ]
  },
  {
   "cell_type": "code",
   "execution_count": null,
   "id": "5cc46246",
   "metadata": {},
   "outputs": [
    {
     "data": {
      "text/html": [
       "<div>\n",
       "<style scoped>\n",
       "    .dataframe tbody tr th:only-of-type {\n",
       "        vertical-align: middle;\n",
       "    }\n",
       "\n",
       "    .dataframe tbody tr th {\n",
       "        vertical-align: top;\n",
       "    }\n",
       "\n",
       "    .dataframe thead th {\n",
       "        text-align: right;\n",
       "    }\n",
       "</style>\n",
       "<table border=\"1\" class=\"dataframe\">\n",
       "  <thead>\n",
       "    <tr style=\"text-align: right;\">\n",
       "      <th></th>\n",
       "      <th>x</th>\n",
       "      <th>y</th>\n",
       "      <th>xerr</th>\n",
       "      <th>yerr</th>\n",
       "    </tr>\n",
       "  </thead>\n",
       "  <tbody>\n",
       "    <tr>\n",
       "      <th>0</th>\n",
       "      <td>0</td>\n",
       "      <td>9.340766</td>\n",
       "      <td>0.2</td>\n",
       "      <td>0.056000</td>\n",
       "    </tr>\n",
       "    <tr>\n",
       "      <th>1</th>\n",
       "      <td>9</td>\n",
       "      <td>9.673261</td>\n",
       "      <td>0.2</td>\n",
       "      <td>0.056000</td>\n",
       "    </tr>\n",
       "    <tr>\n",
       "      <th>2</th>\n",
       "      <td>36</td>\n",
       "      <td>10.628122</td>\n",
       "      <td>0.2</td>\n",
       "      <td>0.060000</td>\n",
       "    </tr>\n",
       "    <tr>\n",
       "      <th>3</th>\n",
       "      <td>81</td>\n",
       "      <td>12.100936</td>\n",
       "      <td>0.2</td>\n",
       "      <td>0.060000</td>\n",
       "    </tr>\n",
       "    <tr>\n",
       "      <th>4</th>\n",
       "      <td>144</td>\n",
       "      <td>14.550156</td>\n",
       "      <td>0.2</td>\n",
       "      <td>0.056000</td>\n",
       "    </tr>\n",
       "    <tr>\n",
       "      <th>5</th>\n",
       "      <td>225</td>\n",
       "      <td>17.561586</td>\n",
       "      <td>0.2</td>\n",
       "      <td>0.058909</td>\n",
       "    </tr>\n",
       "  </tbody>\n",
       "</table>\n",
       "</div>"
      ],
      "text/plain": [
       "     x          y  xerr      yerr\n",
       "0    0   9.340766   0.2  0.056000\n",
       "1    9   9.673261   0.2  0.056000\n",
       "2   36  10.628122   0.2  0.060000\n",
       "3   81  12.100936   0.2  0.060000\n",
       "4  144  14.550156   0.2  0.056000\n",
       "5  225  17.561586   0.2  0.058909"
      ]
     },
     "execution_count": 18,
     "metadata": {},
     "output_type": "execute_result"
    }
   ],
   "source": [
    "for_regression"
   ]
  },
  {
   "cell_type": "code",
   "execution_count": null,
   "id": "383e458a",
   "metadata": {},
   "outputs": [
    {
     "data": {
      "image/png": "[encoded data removed]",
      "text/plain": [
       "<Figure size 1280x720 with 1 Axes>"
      ]
     },
     "metadata": {},
     "output_type": "display_data"
    }
   ],
   "source": [
    "plt.figure(figsize=(16, 9), dpi=80)\n",
    "plt.errorbar(x=labs_test[\"x\"].apply(get_var), y=labs_test[\"y\"].apply(get_var), \n",
    "             xerr=labs_test[\"x\"].apply(get_err), yerr=labs_test[\"y\"].apply(get_err), fmt='.')\n",
    "plt.title(r\"$T^2(h^2)$\", fontsize=25)\n",
    "plt.xlabel(r\"$h^2, см^2$\", fontsize=20)\n",
    "plt.ylabel(r\"$T^2, с^2$\", fontsize=20)\n",
    "plt.grid(True)"
   ]
  }
 ],
 "metadata": {
  "kernelspec": {
   "display_name": "Python 3.10.5 64-bit",
   "language": "python",
   "name": "python3"
  },
  "language_info": {
   "codemirror_mode": {
    "name": "ipython",
    "version": 3
   },
   "file_extension": ".py",
   "mimetype": "text/x-python",
   "name": "python",
   "nbconvert_exporter": "python",
   "pygments_lexer": "ipython3",
   "version": "3.10.5 (v3.10.5:f377153967, Jun  6 2022, 12:36:10) [Clang 13.0.0 (clang-1300.0.29.30)]"
  },
  "vscode": {
   "interpreter": {
    "hash": "aee8b7b246df8f9039afb4144a1f6fd8d2ca17a180786b69acc140d282b71a49"
   }
  }
 },
 "nbformat": 4,
 "nbformat_minor": 5
}
